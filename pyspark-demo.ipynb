{
 "cells": [
  {
   "cell_type": "code",
   "execution_count": 0,
   "metadata": {
    "application/vnd.databricks.v1+cell": {
     "cellMetadata": {
      "byteLimit": 2048000,
      "rowLimit": 10000
     },
     "inputWidgets": {},
     "nuid": "5df3c265-78e6-48ca-8ae7-1692be5add14",
     "showTitle": false,
     "tableResultSettingsMap": {},
     "title": ""
    }
   },
   "outputs": [],
   "source": [
    "from pyspark.sql import SparkSession\n",
    "from pyspark.sql.types import StructType, StructField, IntegerType, StringType, DoubleType, DateType\n",
    "\n",
    "# Create SparkSession (Only needed if running outside Databricks)\n",
    "spark = SparkSession.builder.appName(\"EmployeeData\").getOrCreate()\n",
    "\n",
    "# Define Schema\n",
    "schema = StructType([\n",
    "    StructField(\"EmployeeID\", IntegerType(), True),\n",
    "    StructField(\"Name\", StringType(), True),\n",
    "    StructField(\"Age\", IntegerType(), True),\n",
    "    StructField(\"Department\", StringType(), True),\n",
    "    StructField(\"Salary\", DoubleType(), True),\n",
    "    StructField(\"JoiningDate\", StringType(), True)  # Use StringType first, convert later\n",
    "])\n",
    "\n",
    "# Create Data\n",
    "data = [\n",
    "    (101, \"Alice\", 30, \"IT\", 75000, \"2021-03-15\"),\n",
    "    (102, \"Bob\", 35, \"HR\", 65000, \"2019-07-23\"),\n",
    "    (103, \"Charlie\", 40, \"Finance\", 80000, \"2018-05-11\"),\n",
    "    (104, \"David\", 29, \"IT\", 72000, \"2022-01-10\"),\n",
    "    (105, \"Eva\", 32, \"Marketing\", 70000, \"2020-09-30\")\n",
    "]\n",
    "\n",
    "# Create DataFrame\n",
    "df = spark.createDataFrame(data, schema=schema)\n",
    "\n",
    "# Convert JoiningDate to DateType\n",
    "from pyspark.sql.functions import col\n",
    "df = df.withColumn(\"JoiningDate\", col(\"JoiningDate\").cast(DateType()))\n",
    "\n",
    "# Show DataFrame\n",
    "df.show(2)\n"
   ]
  }
 ],
 "metadata": {
  "application/vnd.databricks.v1+notebook": {
   "computePreferences": null,
   "dashboards": [],
   "environmentMetadata": {
    "base_environment": "",
    "environment_version": "2"
   },
   "inputWidgetPreferences": null,
   "language": "python",
   "notebookMetadata": {
    "pythonIndentUnit": 4
   },
   "notebookName": "pyspark-demo",
   "widgets": {}
  },
  "language_info": {
   "name": "python"
  }
 },
 "nbformat": 4,
 "nbformat_minor": 0
}
